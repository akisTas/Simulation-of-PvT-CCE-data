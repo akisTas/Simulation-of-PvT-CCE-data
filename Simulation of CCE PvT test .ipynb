{
 "cells": [
  {
   "cell_type": "code",
   "execution_count": 12,
   "metadata": {},
   "outputs": [],
   "source": [
    "import numpy as np\n",
    "import pandas as pd\n",
    "import math\n",
    "import matplotlib.pyplot as plt\n",
    "from scipy.optimize import brentq as br"
   ]
  },
  {
   "cell_type": "code",
   "execution_count": 13,
   "metadata": {},
   "outputs": [],
   "source": [
    "data=pd.read_excel('oil3.xlsx')\n",
    "kij=pd.read_excel('BIPs.xlsx')\n",
    "Pg=pd.read_excel('pres.xlsx')"
   ]
  },
  {
   "cell_type": "code",
   "execution_count": 14,
   "metadata": {},
   "outputs": [],
   "source": [
    "T=data['T'][0] # reservoir temperature\n",
    "R=8.314472*10**(-5) #m3*bar/mol*K\n",
    "Tc=np.array(data['Tc'])\n",
    "Pc=np.array(data['Pc'])\n",
    "w=np.array(data['w'])\n",
    "z=np.array(data['z'])\n",
    "P=np.array(Pg['P'])\n",
    "vexp=np.array(Pg['Vexp'])\n",
    "aL=pd.DataFrame(np.zeros((len(Tc),len(Tc))))\n",
    "aV=pd.DataFrame(np.zeros((len(Tc),len(Tc))))"
   ]
  },
  {
   "cell_type": "code",
   "execution_count": 15,
   "metadata": {},
   "outputs": [],
   "source": [
    "#Import shift volume parameters\n",
    "s=[0,0,-0.154,-0.1002,-0.08501,-0.07935,-0.06413,-0.0435,-0.04183,0.153896837]"
   ]
  },
  {
   "cell_type": "code",
   "execution_count": 16,
   "metadata": {},
   "outputs": [],
   "source": [
    "#reservoir conditions\n",
    "ZLr=[]\n",
    "ZVr=[]\n",
    "Vr=[]\n",
    "Lr=[]\n",
    "VL=[]\n",
    "VV=[]\n",
    "VLcor=[]\n",
    "VVcor=[]\n",
    "sumcor=[]\n",
    "vvcor=[]\n",
    "Pb=195.486 #from bubble point code\n",
    "n1=0\n",
    "for r in range (0,len(P)):\n",
    "    if P[r]>Pb:\n",
    "        a=[]\n",
    "        b=[]\n",
    "        α=[]\n",
    "        cor1=[]\n",
    "        for i in range (0,len(w)):\n",
    "            b=np.append(b,(z[i]*0.0778*R*Tc[i])/Pc[i])\n",
    "            cor1=np.append(cor1,s[i]*b[i])\n",
    "            if w[i]<=0.491:\n",
    "                m=0.37464+1.54226*w[i]-0.26992*w[i]*w[i]\n",
    "                α=np.append(α,(1/Pc[i])*0.45724*(R*R)*(Tc[i]*Tc[i])*(1+m*(1-math.sqrt(T/Tc[i])))**2)\n",
    "            else:\n",
    "                m=0.379642+1.48503*w[i]-0.164423*w[i]*w[i]+0.016666*w[i]*w[i]*w[i]\n",
    "                α=np.append(α,(1/Pc[i])*0.45724*(R*R)*(Tc[i]*Tc[i])*(1+m*(1-math.sqrt(T/Tc[i])))**2)\n",
    "        for i in range (0,len(Tc)): \n",
    "            for j in range(0,len(Tc)):\n",
    "                a=np.append(a,z[i]*z[j]*(1-kij.iat[i,j])*math.sqrt(α[i]*α[j]))\n",
    "        sumcor=np.append(sumcor,sum(cor1))\n",
    "        vvcor=np.append(vvcor,0)\n",
    "        am=np.sum(a)\n",
    "        bm=np.sum(b)\n",
    "        A=(am*P[r])/(R*R*T*T)\n",
    "        B=(bm*P[r])/(R*T)\n",
    "        Zro=np.array([1,B-1,A-2*B-3*(B*B),(B**3)+(B**2)-A*B])\n",
    "        Zro=np.roots(Zro)\n",
    "        Real=[]\n",
    "        for i in range(len(Zro)):\n",
    "            if abs(Zro[i].imag)<10**(-5):\n",
    "                Real=np.append(Real, np.real(Zro[i]))\n",
    "        ZL=min(Real)\n",
    "        ZV=0\n",
    "        V=0\n",
    "    else:\n",
    "        \n",
    "        n=0\n",
    "        SSF=5\n",
    "        while SSF>10**(-15):\n",
    "            if n<=0:\n",
    "                Vo=0\n",
    "                K=[]\n",
    "                for i in range (0,len(Tc)):\n",
    "                    K=np.append(K,(Pc[i]/P[r])*math.exp(5.37*(1+w[i])*(1-Tc[i]/T))) #estimating K values from Wilson's Correlation\n",
    "                def f(Vo):\n",
    "                    return sum(z*(K-1)/(1+Vo*(K-1)))\n",
    "                V=br(f,0,1)\n",
    "                x=[]\n",
    "                y=[]\n",
    "                for i in range (0,len(Tc)):\n",
    "                    x=np.append(x,z[i]/(1+V*(K[i]-1)))\n",
    "                    y=np.append(y,z[i]*K[i]/(1+V*(K[i]-1)))\n",
    "            else:\n",
    "                Vo=V\n",
    "                K=[]\n",
    "                for i in range (0,len(Tc)):\n",
    "                    K=np.append(K,φLi[i]/φVi[i])\n",
    "                def f(Vo):\n",
    "                    return sum(z*(K-1)/(1+Vo*(K-1)))\n",
    "                V=br(f,0,1)\n",
    "                x=[]\n",
    "                y=[]\n",
    "                for i in range (0,len(Tc)):\n",
    "                    x=np.append(x,z[i]/(1+V*(K[i]-1)))\n",
    "                    y=np.append(y,z[i]*K[i]/(1+V*(K[i]-1)))\n",
    "            α=[]\n",
    "            bLi=[]\n",
    "            bL=[]\n",
    "            bVi=[]\n",
    "            bV=[]\n",
    "            cor2=[]\n",
    "            cor3=[]\n",
    "            for i in range (0,len(Tc)):  \n",
    "                bLi=np.append(bLi,(0.0778*R*Tc[i])/Pc[i])\n",
    "                bVi=np.append(bVi,(0.0778*R*Tc[i])/Pc[i])\n",
    "                bL=np.append(bL,x[i]*bLi[i])\n",
    "                bV=np.append(bV,y[i]*bVi[i])\n",
    "                cor2=np.append(cor2,s[i]*bLi[i]*x[i])\n",
    "                cor3=np.append(cor3,s[i]*bVi[i]*y[i])\n",
    "                if w[i]<=0.491:\n",
    "                    m=0.37464+1.54226*w[i]-0.26992*w[i]*w[i]\n",
    "                    α=np.append(α,(1/Pc[i])*0.45724*(R*R)*(Tc[i]*Tc[i])*(1+m*(1-math.sqrt(T/Tc[i])))**2)\n",
    "                else:\n",
    "                    m=0.379642+1.48503*w[i]-0.164423*w[i]*w[i]+0.016666*w[i]*w[i]*w[i]\n",
    "                    α=np.append(α,(1/Pc[i])*0.45724*(R*R)*(Tc[i]*Tc[i])*(1+m*(1-math.sqrt(T/Tc[i])))**2)\n",
    "            for i in range (0,len(Tc)): \n",
    "                for j in range(0,len(Tc)):\n",
    "                    aL.iat[i,j]=x[i]*x[j]*(1-kij.iat[i,j])*math.sqrt(α[i]*α[j])\n",
    "                    aV.iat[i,j]=y[i]*y[j]*(1-kij.iat[i,j])*math.sqrt(α[i]*α[j])\n",
    "            amL=aL.sum().sum()\n",
    "            amV=aV.sum().sum()\n",
    "            bmL=np.sum(bL)\n",
    "            bmV=np.sum(bV)\n",
    "            AL =(amL*P[r])/(R*T)**2\n",
    "            AV=(amV*P[r])/(R*T)**2\n",
    "            BL=(bmL*P[r])/(R*T)\n",
    "            BV=(bmV*P[r])/(R*T)\n",
    "            ZroL=np.array([1,BL-1,AL-2*BL-3*(BL*BL),(BL**3)+(BL**2)-AL*BL])\n",
    "            ZroL=np.roots(ZroL)\n",
    "            RealL=[]\n",
    "            for i in range(len(ZroL)):\n",
    "                    if abs(ZroL[i].imag)<10**(-5):\n",
    "                        RealL=np.append(RealL, np.real(ZroL[i]))\n",
    "            ZL=min(RealL[RealL>0])          \n",
    "            ZroV=np.array([1,BV-1,AV-2*BV-3*(BV*BV),(BV**3)+(BV**2)-AV*BV])\n",
    "            ZroV=np.roots(ZroV)\n",
    "            RealV=[]\n",
    "            for i in range(len(ZroV)):\n",
    "                    if abs(ZroV[i].imag)<10**(-5):\n",
    "                        RealV=np.append(RealV, np.real(ZroV[i]))\n",
    "            ZV=max(RealV[RealV>0])\n",
    "            lnφLi=[]\n",
    "            φLi=[]\n",
    "            fLi=[]\n",
    "            lnφVi=[]\n",
    "            φVi=[]\n",
    "            fVi=[]\n",
    "            SF=[]\n",
    "            g1V=[]\n",
    "            g1L=[]\n",
    "            for i in range (0,len(Tc)):\n",
    "                gL=[]\n",
    "                gV=[]\n",
    "                for j in range (0,len(Tc)):\n",
    "                    gL=np.append(gL,x[j]*math.sqrt(α[j])*(1-kij.iat[i,j]))\n",
    "                    gV=np.append(gV,y[j]*math.sqrt(α[j])*(1-kij.iat[i,j]))\n",
    "                g1L=np.append(g1L,sum(gL))\n",
    "                g1V=np.append(g1V,sum(gV))\n",
    "                lnφL=-math.log(ZL-BL)+(ZL-1)*(bLi[i]/bmL)-(AL/(BL*(2**1.5)))*((2*math.sqrt(α[i])*g1L[i]/amL)-(bLi[i]/bmL))*math.log((ZL+BL*(2**0.5+1))/(ZL-BL*(2**0.5-1)))\n",
    "                lnφV=-math.log(ZV-BV)+(ZV-1)*(bVi[i]/bmV)-(AV/(BV*(2**1.5)))*((2*math.sqrt(α[i])*g1V[i]/amV)-(bVi[i]/bmV))*math.log((ZV+BV*(2**0.5+1))/(ZV-BV*(2**0.5-1)))\n",
    "                lnφLi=np.append(lnφLi,lnφL)\n",
    "                lnφVi=np.append(lnφVi,lnφV)\n",
    "                φLi=np.append(φLi,math.exp(lnφLi[i]))\n",
    "                φVi=np.append(φVi,math.exp(lnφVi[i]))\n",
    "                fLi=np.append(fLi,φLi[i]*P[r]*x[i])   \n",
    "                fVi=np.append(fVi,φVi[i]*P[r]*y[i])  \n",
    "                SF=np.append(SF,(1-(fLi[i]/fVi[i]))**2)\n",
    "            SSF=sum(SF)\n",
    "            n=n+1\n",
    "        sumcor=np.append(sumcor,sum(cor2))\n",
    "        vvcor=np.append(vvcor,sum(cor3))\n",
    "    ZLr=np.append(ZLr,ZL)\n",
    "    ZVr=np.append(ZVr,ZV)\n",
    "    Vr=np.append(Vr,V)\n",
    "    Lr=np.append(Lr,1-V)\n",
    "    VL=np.append(VL,Lr[r]*ZL*R*T/P[r])\n",
    "    VV=np.append(VV,Vr[r]*ZV*R*T/P[r])\n",
    "    VLcor=np.append(VLcor,VL[r]-Lr[r]*sumcor[r])\n",
    "    VVcor=np.append(VVcor,VV[r]-Vr[r]*vvcor[r])"
   ]
  },
  {
   "cell_type": "code",
   "execution_count": 17,
   "metadata": {},
   "outputs": [
    {
     "data": {
      "text/plain": [
       "array([1.58396602e-05, 1.58396602e-05, 1.58396602e-05, 1.58396602e-05,\n",
       "       1.58396602e-05, 1.58396602e-05, 1.59293866e-05, 1.63675046e-05,\n",
       "       1.67281136e-05, 1.67963841e-05, 1.68609665e-05, 1.72100133e-05,\n",
       "       1.77689883e-05, 1.85033798e-05, 1.93659475e-05, 2.04573311e-05,\n",
       "       2.16748432e-05, 2.31592825e-05, 2.45361703e-05, 2.66670202e-05,\n",
       "       2.87559464e-05, 3.10106282e-05, 3.34550181e-05])"
      ]
     },
     "execution_count": 17,
     "metadata": {},
     "output_type": "execute_result"
    }
   ],
   "source": [
    "sumcor"
   ]
  },
  {
   "cell_type": "code",
   "execution_count": 18,
   "metadata": {},
   "outputs": [
    {
     "data": {
      "text/plain": [
       "array([0.00017127, 0.00017245, 0.00017375, 0.0001752 , 0.00017683,\n",
       "       0.00017718, 0.0001772 , 0.00017593, 0.00017493, 0.00017474,\n",
       "       0.00017457, 0.00017364, 0.00017221, 0.00017044, 0.00016849,\n",
       "       0.00016619, 0.00016383, 0.0001612 , 0.00015895, 0.00015579,\n",
       "       0.00015298, 0.00015021, 0.00014744])"
      ]
     },
     "execution_count": 18,
     "metadata": {},
     "output_type": "execute_result"
    }
   ],
   "source": [
    "VL"
   ]
  },
  {
   "cell_type": "code",
   "execution_count": 19,
   "metadata": {},
   "outputs": [],
   "source": [
    "#Prediction of relative volume as the sum of liquid and vapor volume divided by saturation volume\n",
    "vsatPR=0.00017746572865900506 #m3/mole, saturation volume predicted with PR(see bubble point code)\n",
    "vsatJPR=0.00016162606845688388 #m3/mole, saturation volume predicted with PR using the concept of volume translation by Jhaveri and Youngren(see bubble point code)\n",
    "V=(VL+VV)/vsatPR #vsatPR value is obtained from the bubble point code\n",
    "Vcor=(VLcor+VVcor)/vsatJPR #vsatJPR value is obtained from the bubble point code"
   ]
  },
  {
   "cell_type": "code",
   "execution_count": 20,
   "metadata": {
    "scrolled": true
   },
   "outputs": [
    {
     "data": {
      "text/plain": [
       "Text(0, 0.5, 'relative volume')"
      ]
     },
     "execution_count": 20,
     "metadata": {},
     "output_type": "execute_result"
    },
    {
     "data": {
      "image/png": "[encoded data removed]",
      "text/plain": [
       "<Figure size 720x648 with 1 Axes>"
      ]
     },
     "metadata": {
      "needs_background": "light"
     },
     "output_type": "display_data"
    }
   ],
   "source": [
    "plt.plot(P,V,color='red')\n",
    "plt.plot(P,Vcor,color='blue')\n",
    "plt.scatter(P,vexp,color='black',)\n",
    "plt.xlim([30, 345])\n",
    "plt.ylim([0.8,3])\n",
    "fig = plt.gcf()\n",
    "fig.set_size_inches(10, 9)\n",
    "plt.legend(['PengRobinson','PengRobinson(translated)','exp'])\n",
    "plt.xlabel('Pressure(bar)')\n",
    "plt.ylabel('relative volume')"
   ]
  },
  {
   "cell_type": "code",
   "execution_count": 25,
   "metadata": {},
   "outputs": [
    {
     "name": "stdout",
     "output_type": "stream",
     "text": [
      "average absolute deviation of translated PR from experimental data 2.207415670429626 %\n"
     ]
    }
   ],
   "source": [
    "print('average absolute deviation of translated PR from experimental data',np.average(100*(np.abs(vexp-Vcor)/vexp)),'%')"
   ]
  },
  {
   "cell_type": "code",
   "execution_count": 26,
   "metadata": {},
   "outputs": [
    {
     "name": "stdout",
     "output_type": "stream",
     "text": [
      "average absolute deviation of PR from experimental data 3.1950519986528008 %\n"
     ]
    }
   ],
   "source": [
    "print('average absolute deviation of PR from experimental data',np.average(100*(np.abs(vexp-V)/vexp)),'%')"
   ]
  },
  {
   "cell_type": "code",
   "execution_count": null,
   "metadata": {},
   "outputs": [],
   "source": []
  }
 ],
 "metadata": {
  "kernelspec": {
   "display_name": "Python 3",
   "language": "python",
   "name": "python3"
  },
  "language_info": {
   "codemirror_mode": {
    "name": "ipython",
    "version": 3
   },
   "file_extension": ".py",
   "mimetype": "text/x-python",
   "name": "python",
   "nbconvert_exporter": "python",
   "pygments_lexer": "ipython3",
   "version": "3.7.1"
  }
 },
 "nbformat": 4,
 "nbformat_minor": 2
}
